{
  "cells": [
    {
      "cell_type": "markdown",
      "metadata": {
        "id": "WtNlMjVj1RzF"
      },
      "source": [
        "# **KSP 5.0 Selection Assignment**\n",
        "\n",
        "\n",
        "\n"
      ]
    },
    {
      "cell_type": "code",
      "execution_count": 1,
      "metadata": {
        "id": "7MSO4j6ysbSz"
      },
      "outputs": [],
      "source": [
        "import numpy as np\n",
        "import pandas as pd\n",
        "import matplotlib.pyplot as plt"
      ]
    },
    {
      "cell_type": "markdown",
      "metadata": {
        "id": "YmKaCRwatFv3"
      },
      "source": [
        "# Section 1: Calculating the Redshift of Galaxies\n",
        "\n",
        "You are given the data for all the galaxies in the cluster in the file 'galaxy.csv'.\n",
        "\n",
        "This includes the name of the galaxy, observed wavelength of the $H\\alpha$ line $\\lambda_{H\\alpha}$, Right Ascension at J2000.0 and Declination and J2000.0 (You can read more about RA and Dec [here](https://en.wikipedia.org/wiki/Equatorial_coordinate_system))"
      ]
    },
    {
      "cell_type": "code",
      "execution_count": 2,
      "metadata": {
        "id": "oAUNfVSjs6w6"
      },
      "outputs": [],
      "source": [
        "galaxy_data = pd.read_csv('data/galaxy.csv')"
      ]
    },
    {
      "cell_type": "markdown",
      "metadata": {
        "id": "7lD7WBEgvRAz"
      },
      "source": [
        "\n",
        "Since the galaxies would have some radial velocities with respect to us, the wavelengths we observed would be [redshifted](https://en.wikipedia.org/wiki/Redshift) due to doppler effect.\n",
        "\n",
        "Using the value of the Observed Wavelength of $H\\alpha$ line (Rest Wavelength $\\lambda_{H\\alpha0} = 6562.8nm)$, calculate the redshift of the galaxies in our cluster.\n",
        "\n",
        "Use this to find their radial velocities of the galaxies and plot it.\n",
        "\n",
        "(Assume that the observed wavelength has been correscted for the motion of earth around sun, and motion of sun around the center of Milky Way. Put more simply, these are the wavelengths you would have observed if you were at rest at the center of Milky Way)"
      ]
    },
    {
      "cell_type": "code",
      "execution_count": 3,
      "metadata": {
        "id": "WR7-miPtvT1K"
      },
      "outputs": [],
      "source": [
        "# your code here\n",
        "redshift = galaxy_data['Observed Wavelength of H-alpha']/6562.8 - 1 #redshift=(observed wavelenght)/6562.8 -1\n",
        "radial_velocity = redshift * 300000000 #radial vel= redshift * speed of light"
      ]
    },
    {
      "cell_type": "markdown",
      "metadata": {
        "id": "2Nb1xAqnwtlS"
      },
      "source": [
        "Using the data from galaxy.csv, answer the following questions.\n",
        "\n",
        "For your convenience, the RA and Dec data has been converted from the format $a^\\circ b^m c^s$ to $xx^\\circ$ below\n"
      ]
    },
    {
      "cell_type": "code",
      "execution_count": 4,
      "metadata": {
        "id": "qEHIP6SA0RDz"
      },
      "outputs": [],
      "source": [
        "temp = galaxy_data['RA J2000.0'].str.split(' ', expand=True)\n",
        "galaxy_data['RA J2000.0'] = temp[0].astype(float) + temp[1].astype(float) / 60 + temp[2].astype(float) / 3600\n",
        "temp = galaxy_data['Dec J2000.0'].str.split(' ', expand=True)\n",
        "galaxy_data['Dec J2000.0'] = temp[0].astype(float) + temp[1].astype(float) / 60 + temp[2].astype(float) / 3600"
      ]
    },
    {
      "cell_type": "markdown",
      "metadata": {
        "id": "KzvIc02xzmlJ"
      },
      "source": [
        "***\n",
        "\n",
        "###Q1.1. What is the approximate angular size of the galaxy cluster?\n",
        "\n",
        "the Galaxy cluster extends from right asension of 12.2 to 13 degrees \n",
        "and a declination from 5 to 15 degrees\n",
        "\n",
        "***\n",
        "\n",
        "###Q1.2. Can you comment anything about the rotation of the galaxies around the center of the cluster.\n",
        "HINT: You may find it useful to plot a scatter plot of RA and DEC with radial velocity as colormap.\n",
        "\n",
        "\\<Your answer here\\>   \n",
        "most of the radial velocity is positive suggesting the galaxy is drifting away from us\n",
        "\n",
        "***"
      ]
    },
    {
      "cell_type": "code",
      "execution_count": 5,
      "metadata": {
        "id": "Yr7PyFXmzhjD"
      },
      "outputs": [],
      "source": [
        "# your code here\n",
        "x=np.array(galaxy_data['RA J2000.0'])\n",
        "y=np.array(radial_velocity)\n",
        "plt.subplot(1,2,1)\n",
        "plt.xlabel(\"RA J2000.0\")\n",
        "plt.ylabel(\"Radial Velocity\")\n",
        "plt.plot(x,y,'o')\n",
        "\n",
        "X=np.array(galaxy_data['Dec J2000.0'])\n",
        "Y=np.array(radial_velocity)\n",
        "plt.subplot(1,2,2)\n",
        "plt.xlabel(\"Dec J2000.0\")\n",
        "plt.ylabel(\"Radial Velocity\")\n",
        "plt.plot(X,Y,'o')\n",
        "\n",
        "plt.show()"
      ]
    },
    {
      "cell_type": "markdown",
      "metadata": {
        "id": "zcy6mXIC0kix"
      },
      "source": [
        "#Section 2: Calibrating Cepheids Data\n",
        "\n",
        "NOTE: Although there are no prerequisities for this section, it relies a bit on knowledge about cepheids and their Period-Luminosity Relation. Necessary resource links have been provided wherever needed. You are strongly encouraged to use the internet to aid as a reference whenever needed.\n",
        "***\n",
        "\n",
        "The [Gaia Mission](https://en.wikipedia.org/wiki/Gaia_(spacecraft) aims at cataloging and create a precise three-dimensional map of astronomical objects throughout the Mily Way. It maps the motion of the stars, which encode the origin and subsequent evolution of the Milky Way. The spectrophotometric measurements provide detailed physical properties of all stars observed, characterizing their luminosity, effective temperature, gravity and elemental composition.\n",
        "\n",
        "\n",
        "\n"
      ]
    },
    {
      "cell_type": "code",
      "execution_count": 6,
      "metadata": {
        "id": "U584NF6h1h76"
      },
      "outputs": [],
      "source": [
        "gaia_data = pd.read_csv('data/gaia.csv')"
      ]
    },
    {
      "cell_type": "markdown",
      "metadata": {
        "id": "ZhkNxgEi6z1k"
      },
      "source": [
        "Cepheids are a particular type of variable stars that pulsates radially, varying in both diameter and temperature. They **changes in brightness**, with a **well-defined stable period and amplitude**.\n",
        "\n",
        "The file 'gaia.csv' includes data for about 5000 Cepheid Variable Stars in our own galaxy. In particular, the file contains the following data fields:\n",
        "   \n",
        "*   Unique ID of the Source Star\n",
        "*   Parallax (in milli arcseconds) : You can read more about parallax [here](https://en.wikipedia.org/wiki/Stellar_parallax)\n",
        "*   Mean **Apparent** Magnitude ($m$)\n",
        "*   TIme period of Pulsations P(in days)\n",
        "\n"
      ]
    },
    {
      "cell_type": "markdown",
      "metadata": {
        "id": "n4EAaijG9rTk"
      },
      "source": [
        "Classical Cepheids follow the [Period Luminosity Law](https://en.wikipedia.org/wiki/Period-luminosity_relation#The_relations), also commonly known as the Leavitt Law.\n",
        "\n",
        "It basically states that there is an empirical relation between the pulsation period $(P)$ of a Cepheid Star and it's **Absolute Magnitude** ($M$) of the form -\n",
        "\n",
        "#### $\\begin{equation}M = \\alpha \\log_{10}(P \\text{(in days)}) + \\beta \\end{equation}$\n",
        "***"
      ]
    },
    {
      "cell_type": "markdown",
      "metadata": {
        "id": "hY04VqLu-ymk"
      },
      "source": [
        "### Your aim is to verify Leavitt Law for cepheids using the given data, and find the values of $\\alpha$ and $\\beta$.\n",
        "\n",
        "You may find it helpful to use the function 'poly_fit' in numpy for this."
      ]
    },
    {
      "cell_type": "code",
      "execution_count": 7,
      "metadata": {
        "id": "loolzAz--xKC"
      },
      "outputs": [],
      "source": [
        "# your code here\n",
        "# Get the scatter plot of M and log_10(P) and the best fit line\n",
        "# Get the values of alpha and beta\n",
        "\n",
        "\n",
        "# Calculate distance and absolute magnitude\n",
        "distance = (0.000004848 / gaia_data['parallax']) * (180/3.14) # Convert parallax to distance in parsecs\n",
        "abs_magnitude = gaia_data['mean apparent magnitude'] - 5 * np.log10(distance) + 5\n",
        "\n",
        "# Create x and y axes\n",
        "x_axis = np.log10(gaia_data['time period'].values) \n",
        "y_axis = abs_magnitude.values \n",
        "\n",
        "# Plot\n",
        "coeff=np.polyfit(x_axis, y_axis, deg=1)\n",
        "alpha=coeff[0] #value of alpha in the leavitt law\n",
        "beta=coeff[1] #value of beta in the leavitt law\n",
        "f=np.poly1d(coeff)\n",
        "yy=f(x_axis)\n",
        "plt.plot(x_axis,yy,c='black')\n",
        "plt.scatter(x_axis, y_axis)\n",
        "plt.xlabel('log(time period)')\n",
        "plt.ylabel('absolute magnitude')\n",
        "plt.show()"
      ]
    },
    {
      "cell_type": "markdown",
      "metadata": {
        "id": "bDet5DbFAA8J"
      },
      "source": [
        "***\n",
        "### Some useful information about the Magnitude system\n",
        "\n",
        "The brightness of a star as seen by some observer is dependent on the observer's distance from the star as well as the intrinsic brightness of the star (ignoring any absorption in the intervening space).\n",
        "\n",
        "In astronomy, brightness of a star, as seen by some observer, is measured in terms of its **apparent magnitude ($m$)**. For two stars (1 and 2) with fluxes $f_1$ and $f_2$ respectively, their apparent magnitudes $m_1$ and $m_2$ are related by:\n",
        "\n",
        "$m_1 - m_2 = 2.5 \\log_{10} \\left( \\frac{f_1}{f_2} \\right)$\n",
        "\n",
        "**Absolute magnitude ($M$)** of any star is its apparent magnitude if the star was exactly 10 parsecs away from the observer. Thus, $M$ only depends on the intrinsic brightness of the star.\n",
        "\n",
        "***\n"
      ]
    },
    {
      "cell_type": "markdown",
      "metadata": {
        "id": "ks4Rp-ICC9mV"
      },
      "source": [
        "# Section 3: Getting the distances to our galaxies\n",
        "\n",
        "Now that we have our period-luminosity relation, we can observe cepheids in the galaxies in our cluster and use this to get the distances to our galaxies. (Yes, this is possible! Hubble Telescope actually observed Cepheids in the galaxies in Virgo Cluster)\n",
        "\n",
        "\n",
        "For this, you have been given the data file 'cepheid.csv' which contains the following data fields:\n",
        "*   Unique ID of the Cepheid\n",
        "*   Name of the Galaxy to which it belongs\n",
        "*   Mean Apparent Magnitude (m)\n",
        "*   Time Period of Pulsation (in days)"
      ]
    },
    {
      "cell_type": "code",
      "execution_count": 8,
      "metadata": {
        "id": "6rM8J4XaDBJq"
      },
      "outputs": [],
      "source": [
        "#your code here\n",
        "cepheid_data = pd.read_csv('data/cepheid.csv')\n",
        "abs_magnitude = alpha * np.log10(cepheid_data['Period'].values) + beta  #leavitts law\n",
        "log_distance = ( cepheid_data['Apparent Magnitude'] +5 - abs_magnitude ) / 5.0\n",
        "distance = 10 ** log_distance\n",
        "print(\"mean = \",np.mean(distance))\n",
        "print(\"median = \",np.median(distance))"
      ]
    },
    {
      "cell_type": "markdown",
      "metadata": {
        "id": "h762Ay3lEkEE"
      },
      "source": [
        "Use the Period-Luminosity Law derived in Section-2 and the above data to find an estimate for the distance to each galaxy in the cluster.\n",
        "\n",
        "Make sure to handle outliers in the above data. The data may contain some cepheids that actually DO NOT belong to the given galaxy, but it just seems to us that this is the case since they fall along the same line of sight.\n",
        "***"
      ]
    },
    {
      "cell_type": "markdown",
      "metadata": {
        "id": "s_x6IfnGFwrv"
      },
      "source": [
        "# Section 4: Getting the Hubble's Constant\n",
        "\n",
        "The famous [Hubble's Law](https://en.wikipedia.org/wiki/Hubble%27s_law) is the observation that galaxies are moving away from Earth at speeds proportional to their distance.\n",
        "\n",
        "$v = H_0 d$\n",
        "\n",
        "where $H_0$ is the proportionalaity constant, also known as the Hubble's Constant.\n",
        "\n",
        "Now that we have an estimate for the radial velocities and distance to the galaxies in our cluster, we need to find an estimate of the Hubble Constant (H).\n",
        "\n",
        "Fit gaussians on your velocity and distance data and report the mean and standard deviation of the same. Also plot the histograms and the fitted gaussian."
      ]
    },
    {
      "cell_type": "code",
      "execution_count": 9,
      "metadata": {
        "id": "J2-J4mgKG3hA"
      },
      "outputs": [],
      "source": [
        "# your code here\n",
        "# Fit Gaussian on velocity and distance data and plot histograms with fitted gaussians\n",
        "from scipy.stats import norm\n",
        "\n",
        "velocity_data = np.array(radial_velocity)\n",
        "distance_data = np.array(distance)\n",
        "\n",
        "velocity_mean=np.mean(radial_velocity)\n",
        "velocity_std=np.std(radial_velocity)\n",
        "distance_mean=np.mean(distance)\n",
        "distance_std=np.std(distance)\n",
        "\n",
        "plt.figure(figsize=(12, 6))\n",
        "\n",
        "# Plot histogram of velocity data\n",
        "plt.subplot(1, 2, 1)\n",
        "plt.hist(velocity_data, density=True, color='b', label='Velocity Data', bins=20)\n",
        "plt.title('Velocity Histogram')\n",
        "plt.xlabel('Velocity')\n",
        "plt.ylabel('Density')\n",
        "\n",
        "# Plot fitted Gaussian distribution for velocity data\n",
        "xmin, xmax = plt.xlim()\n",
        "x_velocity = np.linspace(xmin, xmax, 100)\n",
        "p_velocity = norm.pdf(x_velocity, velocity_mean, velocity_std)\n",
        "plt.plot(x_velocity, p_velocity, 'k', linewidth=2, label='Gaussian Fit')\n",
        "plt.legend()\n",
        "\n",
        "# Plot histogram of distance data\n",
        "plt.subplot(1, 2, 2)\n",
        "w = np.where(distance_data < 1, 0, 1)\n",
        "plt.hist(distance_data, density=True, color='r', label='Distance Data', weights=w)\n",
        "plt.title('Distance Histogram')\n",
        "plt.xlabel('Distance')\n",
        "plt.ylabel('Density')\n",
        "\n",
        "# Plot fitted Gaussian distribution for distance data\n",
        "xmin, xmax = plt.xlim()\n",
        "xmin=xmin+1\n",
        "x_distance = np.linspace(xmin, xmax, 100)\n",
        "p_distance = norm.pdf(x_distance, distance_mean, distance_std)\n",
        "plt.plot(x_distance, p_distance, 'k', linewidth=2, label='Gaussian Fit')\n",
        "plt.legend()\n",
        "\n",
        "plt.tight_layout()\n",
        "plt.show()\n",
        "\n",
        "#mean and standard deviation of the fitted Gaussians\n",
        "print(\"Velocity Gaussian Fit:\")\n",
        "print(\"Mean:\", velocity_mean)\n",
        "print(\"Standard Deviation:\", velocity_std)\n",
        "print()\n",
        "print(\"Distance Gaussian Fit:\")\n",
        "print(\"Mean:\", distance_mean)\n",
        "print(\"Standard Deviation:\", distance_std)"
      ]
    },
    {
      "cell_type": "markdown",
      "metadata": {
        "id": "oiYEyUxZHVF9"
      },
      "source": [
        "Using the values obtained in the previous part, report your value of $H$ along with the error margins."
      ]
    },
    {
      "cell_type": "code",
      "execution_count": 10,
      "metadata": {
        "id": "WXckYPR5Hgz4"
      },
      "outputs": [],
      "source": [
        "# your code here\n",
        "hubble_constant = velocity_mean/distance_mean\n",
        "error_hubble_constant = hubble_constant * np.sqrt((velocity_std / velocity_mean)**2 + (distance_std / distance_mean)**2)\n",
        "\n",
        "print(\"Hubble Constant(in km/s-Mpc):\", hubble_constant)\n",
        "print(\"Error in Hubble Constant:\", error_hubble_constant)"
      ]
    },
    {
      "cell_type": "markdown",
      "metadata": {
        "id": "PVO4By-yHnOz"
      },
      "source": [
        "***\n",
        "\n",
        "#### Q4.1 Compare the value of $H$ that you got from the standard $H_0$ commonly accepted today. The estimate that you got - is it the same (within error margins), higher or lower than the value of $H_0$.\n",
        "\n",
        "\\< Your answer here \\>\n",
        "The accepted value of the hubbles constant is 67.4 km/s-Mpc . The hubble's constant calculated falls in the accepted range. \n",
        "***\n",
        "\n",
        "#### Q4.2 What might be the reason behind this difference in values\n",
        "The data might have some false enteries\n",
        "the velocity we calculated and used to find hubbles constant was radial velocity, they might have a \n",
        "transverse velocity too.\n",
        "\\< Your answer here \\>\n",
        "\n",
        "***"
      ]
    },
    {
      "cell_type": "markdown",
      "metadata": {
        "id": "-Ye4FZwnJSxv"
      },
      "source": [
        "# Section 5 : Dark Matter\n",
        "\n",
        "Dark matter is a component of the universe whose presence is discerned from its gravitational attraction rather than its luminosity.\n",
        "\n",
        "***\n",
        "\n",
        "#### Q5.1 ESTIMATE the total mass of the Galaxy Cluster. This includes mass due to visible matter as well as dark matter.\n",
        "\n",
        "HINT: The [Virial Theorem](https://phys.libretexts.org/Bookshelves/Classical_Mechanics/Variational_Principles_in_Classical_Mechanics_%28Cline%29/02%3A_Review_of_Newtonian_Mechanics/2.11%3A_Virial_Theorem) provides a general equation that relates the average over time of the total kinetic energy of a stable system of discrete particles, bound by a conservative force\n",
        " $$ \\left<KE\\right> = -\\frac{1}{2} \\left<PE\\right> $$\n",
        "\n",
        "\\< Your Answer here \\>\n",
        "The total mass of the galaxy cluster comes around 10 power 45 kilograms"
      ]
    },
    {
      "cell_type": "code",
      "execution_count": 11,
      "metadata": {
        "id": "I7zq_TRhM7Js"
      },
      "outputs": [],
      "source": [
        "# your code here\n",
        "G=6.67e-11\n",
        "R=(np.max(distance_data) - distance_mean) * 3.086e19\n",
        "vel_squared = np.mean(velocity_data**2)*1000\n",
        "print(\"Total mass of Galaxy cluster(in kg) : \", R*vel_squared/G) # from virial theorem"
      ]
    },
    {
      "cell_type": "markdown",
      "metadata": {
        "id": "wNnOrUIVEREZ"
      },
      "source": [
        "\n",
        "***\n",
        "\n",
        "#### Q5.2 ESTIMATE the visible mass in the galaxy cluster. Use the Mass - Luminosity Relation for Main-Sequence Stars, assuming that it holds well for galaxies too. You may use the Milky Way as a reference.\n",
        "\n",
        "Absolute Magnitude of Milky Way $ \\approx -21 mag$\n",
        "\n",
        "Visible mass of Milky Way $\\approx 2 \\times 10 ^ {11} M_{sun}$\n",
        "\n",
        "\\< Your answer here \\>"
      ]
    },
    {
      "cell_type": "code",
      "execution_count": 12,
      "metadata": {
        "id": "FtRQ9fdZETXD"
      },
      "outputs": [],
      "source": [
        "# your code here\n",
        "L=np.mean(abs_magnitude)\n",
        "mass = 4e41 * pow(L/21,1/3.5)"
      ]
    },
    {
      "cell_type": "markdown",
      "metadata": {
        "id": "PooF4Y-AM9Cu"
      },
      "source": [
        "***\n",
        "\n",
        "#### Q5.3 What is the fraction of the total mass of the galaxy cluster that is actually in the form of Dark Matter\n",
        "\n",
        "about 0.1% of mass of the galaxy is only visible\n",
        "\n",
        "***"
      ]
    }
  ],
  "metadata": {
    "colab": {
      "provenance": []
    },
    "kernelspec": {
      "display_name": "Python 3",
      "name": "python3"
    },
    "language_info": {
      "codemirror_mode": {
        "name": "ipython",
        "version": 3
      },
      "file_extension": ".py",
      "mimetype": "text/x-python",
      "name": "python",
      "nbconvert_exporter": "python",
      "pygments_lexer": "ipython3",
      "version": "3.12.1"
    }
  },
  "nbformat": 4,
  "nbformat_minor": 0
}
